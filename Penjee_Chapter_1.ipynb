{
  "nbformat": 4,
  "nbformat_minor": 0,
  "metadata": {
    "colab": {
      "provenance": []
    },
    "kernelspec": {
      "name": "python3",
      "display_name": "Python 3"
    },
    "language_info": {
      "name": "python"
    }
  },
  "cells": [
    {
      "cell_type": "markdown",
      "source": [
        "**Chapter 1 - Penjee Basics**"
      ],
      "metadata": {
        "id": "D6oGlRjMYrBa"
      }
    },
    {
      "cell_type": "markdown",
      "source": [
        "1) Pam is hungry !"
      ],
      "metadata": {
        "id": "nvdUyaaiY-aR"
      }
    },
    {
      "cell_type": "code",
      "source": [
        "pam = Penguin()\n",
        "# the next 2 lines should make pam waddle() and grab()\n",
        "# If you get stuck , just hit the solution tab up above\n",
        "pam.waddle()\n",
        "pam.grab()"
      ],
      "metadata": {
        "id": "KzieL8ZYYfQr"
      },
      "execution_count": null,
      "outputs": []
    },
    {
      "cell_type": "markdown",
      "source": [
        "2) Shoot, what's wrong with this code?"
      ],
      "metadata": {
        "id": "0DdirmqTZP2Z"
      }
    },
    {
      "cell_type": "code",
      "source": [
        "pam = Penguin()\n",
        "pam.waddle()\n",
        "pam.turnRight()\n",
        "pam.waddle()\n",
        "pam.grab()"
      ],
      "metadata": {
        "id": "fpgE36JOZYe7"
      },
      "execution_count": null,
      "outputs": []
    },
    {
      "cell_type": "markdown",
      "source": [
        "3) Pam is really hungry"
      ],
      "metadata": {
        "id": "Nkyvh8EjZbv9"
      }
    },
    {
      "cell_type": "code",
      "source": [
        "pam = Penguin()\n",
        "pam.grab()\n",
        "pam.waddle()\n",
        "# use waddle() and grab()  to get all the fish!\n",
        "pam.grab()\n",
        "pam.waddle()\n",
        "pam.grab()\n",
        "pam.waddle()\n",
        "pam.grab()\n",
        "pam.waddle()\n",
        "pam.waddle()\n",
        "pam.waddle()\n",
        "pam.waddle()\n",
        "pam.waddle()\n",
        "pam.waddle()\n",
        "pam.grab()"
      ],
      "metadata": {
        "id": "7_ApO9grZkko"
      },
      "execution_count": null,
      "outputs": []
    },
    {
      "cell_type": "markdown",
      "source": [
        "4) Pam Needs Help (Syntax Error)"
      ],
      "metadata": {
        "id": "VI_LdFuQZoRR"
      }
    },
    {
      "cell_type": "code",
      "source": [
        "pam = Penguin()\n",
        "pam.waddle()\n",
        "pam.turnRight()\n",
        "pam.waddle()\n",
        "pam.grab()"
      ],
      "metadata": {
        "id": "1PkKore0Zwwf"
      },
      "execution_count": null,
      "outputs": []
    },
    {
      "cell_type": "markdown",
      "source": [
        "5) It rained"
      ],
      "metadata": {
        "id": "DDcH0niSZ0KN"
      }
    },
    {
      "cell_type": "code",
      "source": [
        "pam = Penguin()\n",
        "# use waddle() a bunch of times to get to the fish\n",
        "# then  grab()  it!\n",
        "pam.waddle()\n",
        "pam.waddle()\n",
        "pam.waddle()\n",
        "pam.waddle()\n",
        "pam.grab()"
      ],
      "metadata": {
        "id": "CT33h8W2aDOt"
      },
      "execution_count": null,
      "outputs": []
    },
    {
      "cell_type": "markdown",
      "source": [
        "6) Shoot, more syntax woes!"
      ],
      "metadata": {
        "id": "3sC6cLeBaGXt"
      }
    },
    {
      "cell_type": "code",
      "source": [
        "pam = Penguin()\n",
        "pam.turnRight()\n",
        "pam.waddle()\n",
        "pam.turnLeft()\n",
        "pam.waddle()\n",
        "pam.waddle()\n",
        "pam.turnLeft()\n",
        "pam.waddle()\n",
        "pam.grab()"
      ],
      "metadata": {
        "id": "5zJfTzbeaNp7"
      },
      "execution_count": null,
      "outputs": []
    },
    {
      "cell_type": "markdown",
      "source": [
        "7) That darn water"
      ],
      "metadata": {
        "id": "2QlQoiqoaPes"
      }
    },
    {
      "cell_type": "code",
      "source": [
        "pam = Penguin()\n",
        "pam.turnRight()\n",
        "pam.waddle()\n",
        "# now you need to turnLeft() and continue to that fish\n",
        "pam.turnLeft()\n",
        "pam.waddle()\n",
        "pam.waddle()\n",
        "pam.turnLeft()\n",
        "pam.waddle()\n",
        "pam.grab()"
      ],
      "metadata": {
        "id": "9jcSoZU5cmYQ"
      },
      "execution_count": null,
      "outputs": []
    },
    {
      "cell_type": "markdown",
      "source": [
        "8) Rows ... Left - Right, Columns ... Height!"
      ],
      "metadata": {
        "id": "bkrUObUUaXk-"
      }
    },
    {
      "cell_type": "code",
      "source": [
        "pam = Penguin()\n",
        "# turn and waddle to get to row 1 , column 2\n",
        "pam.turnRight()\n",
        "pam.waddle()\n",
        "pam.turnLeft()\n",
        "pam.waddle()\n",
        "pam.waddle()"
      ],
      "metadata": {
        "id": "ijqpDXHHdzeE"
      },
      "execution_count": null,
      "outputs": []
    },
    {
      "cell_type": "markdown",
      "source": [
        "9) Rows, Columns ... and rocks!"
      ],
      "metadata": {
        "id": "9ToNpsmlab_Q"
      }
    },
    {
      "cell_type": "code",
      "source": [
        "pam = Penguin()\n",
        "pam.turnRight()\n",
        "pam.waddle()\n",
        "pam.waddle()\n",
        "pam.turnLeft()\n",
        "pam.waddle()\n",
        "pam.waddle()\n",
        "pam.waddle()\n",
        "pam.turnLeft()\n",
        "pam.waddle()"
      ],
      "metadata": {
        "id": "EGZ0_WEZnkp7"
      },
      "execution_count": null,
      "outputs": []
    },
    {
      "cell_type": "markdown",
      "source": [
        "10) Why you gotta be so logical?"
      ],
      "metadata": {
        "id": "mTTPM4qZaf7N"
      }
    },
    {
      "cell_type": "code",
      "source": [
        "pam = Penguin()\n",
        "pam.grab()\n",
        "pam.waddle()\n",
        "pam.grab()\n",
        "pam.waddle()"
      ],
      "metadata": {
        "id": "6PMK5TqpnrvE"
      },
      "execution_count": null,
      "outputs": []
    },
    {
      "cell_type": "markdown",
      "source": [
        "11) Keep on keeping on"
      ],
      "metadata": {
        "id": "05RA-LOYak8P"
      }
    },
    {
      "cell_type": "code",
      "source": [
        "pam = Penguin()\n",
        "pam.waddle()\n",
        "pam.grab()\n",
        "pam.turnRight()\n",
        "pam.waddle()\n",
        "pam.turnLeft()\n",
        "pam.waddle()\n",
        "pam.waddle()\n",
        "pam.turnLeft()\n",
        "pam.waddle()\n",
        "pam.grab()\n",
        "pam.turnRight()\n",
        "pam.waddle()\n",
        "pam.grab()\n",
        "pam.waddle()\n",
        "pam.grab()"
      ],
      "metadata": {
        "id": "7WKoCKH3nsnp"
      },
      "execution_count": null,
      "outputs": []
    },
    {
      "cell_type": "markdown",
      "source": [
        "12) Syntax, syntax , syntax"
      ],
      "metadata": {
        "id": "sZM7Z28AaoP6"
      }
    },
    {
      "cell_type": "code",
      "source": [
        "pam = Penguin()\n",
        "pam.turnRight()\n",
        "pam.waddle()\n",
        "pam.turnLeft()\n",
        "pam.waddle()\n",
        "pam.waddle()\n",
        "pam.turnLeft()\n",
        "pam.waddle()\n",
        "pam.grab()"
      ],
      "metadata": {
        "id": "uYeEtjrLntd_"
      },
      "execution_count": null,
      "outputs": []
    },
    {
      "cell_type": "markdown",
      "source": [
        "13) Fish and water"
      ],
      "metadata": {
        "id": "W3X0IQ0uarix"
      }
    },
    {
      "cell_type": "code",
      "source": [
        "# This is the first time that you need to make a Penguin()\n",
        "# Be careful with your parenthesis\n",
        "pam = Penguin()\n",
        "pam.waddle()\n",
        "pam.waddle()\n",
        "pam.turnRight()\n",
        "pam.waddle()\n",
        "pam.turnLeft()\n",
        "pam.waddle()\n",
        "pam.waddle()\n",
        "pam.waddle()\n",
        "pam.grab()\n",
        "pam.turnRight()\n",
        "pam.waddle()\n",
        "pam.grab()"
      ],
      "metadata": {
        "id": "LYIHkvajnubW"
      },
      "execution_count": null,
      "outputs": []
    },
    {
      "cell_type": "markdown",
      "source": [
        "14) Avoid the water"
      ],
      "metadata": {
        "id": "RuUYkKrjau5V"
      }
    },
    {
      "cell_type": "code",
      "source": [
        "pam = Penguin()\n",
        "pam.waddle()\n",
        "pam.waddle()\n",
        "pam.waddle()\n",
        "pam.waddle()\n",
        "pam.turnRight()\n",
        "pam.waddle()\n",
        "pam.turnLeft()\n",
        "pam.waddle()\n",
        "pam.turnRight()\n",
        "pam.waddle()\n",
        "pam.waddle()\n",
        "pam.turnRight()\n",
        "pam.waddle()\n",
        "pam.turnLeft()\n",
        "pam.waddle()\n",
        "pam.waddle()\n",
        "pam.turnLeft()\n",
        "pam.waddle()\n",
        "pam.turnRight()\n",
        "pam.waddle()\n",
        "pam.waddle()\n",
        "pam.waddle()\n",
        "pam.waddle()\n",
        "pam.grab()"
      ],
      "metadata": {
        "id": "8UjlDoC7azde"
      },
      "execution_count": null,
      "outputs": []
    }
  ]
}